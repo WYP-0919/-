{
 "cells": [
  {
   "cell_type": "markdown",
   "metadata": {},
   "source": [
    "資料庫建立(可自行至sql server中建立)\n",
    "\n",
    "\n",
    "CREATE TABLE weather_data (\n",
    "\n",
    "\n",
    "    id INT IDENTITY(1,1) PRIMARY KEY,    \n",
    "    region VARCHAR(50),\n",
    "    startDate = Date,\n",
    "    endDate = Date,\n",
    "    max_temperature FLOAT,\n",
    "    min_temperature FLOAT\n",
    ");"
   ]
  },
  {
   "cell_type": "markdown",
   "metadata": {},
   "source": [
    "資料庫連線資訊及使用"
   ]
  },
  {
   "cell_type": "code",
   "execution_count": null,
   "metadata": {},
   "outputs": [],
   "source": [
    "from sqlalchemy import create_engine, Column, Integer, String, Float, Date, text, func\n",
    "from sqlalchemy.ext.declarative import declarative_base\n",
    "from sqlalchemy.orm import sessionmaker\n",
    "\n",
    "# SQL Server connection string\n",
    "server = 'LAPTOP-O5VTIAH6'\n",
    "database = 'weather'\n",
    "username = 'sa'\n",
    "password = 'pai5384'\n",
    "connection_string = f'mssql+pyodbc://{username}:{password}@{server}/{database}?driver=ODBC+Driver+17+for+SQL+Server'\n",
    "\n",
    "\n",
    "# 定義資料庫表結構\n",
    "Base = declarative_base()\n",
    "\n",
    "class WeatherData(Base):\n",
    "    __tablename__ = 'weather_data'\n",
    "    \n",
    "    id = Column(Integer, primary_key=True, autoincrement=True)\n",
    "    region = Column(String(50))\n",
    "    startDate = Column(Date)\n",
    "    endDate = Column(Date)\n",
    "    max_temperature = Column(Float)\n",
    "    min_temperature = Column(Float)\n",
    "\n",
    "def Select(date):\n",
    "    query = text('SELECT * FROM weather_data WHERE startDate = \\'' + date + '\\'')\n",
    "\n",
    "    results = session.execute(query)\n",
    "    return results\n",
    "\n",
    "def check(date,region):\n",
    "    query = text('SELECT count(*) FROM weather_data WHERE startDate = \\'' + date + '\\' AND region = \\'' + region +'\\'')\n",
    "\n",
    "    results = session.execute(query).fetchone()\n",
    "\n",
    "    return results\n",
    "\n",
    "def update(date,region, max, min):\n",
    "    query = text('UPDATE weather_data SET max_temperature = \\''+max+'\\',min_temperature = \\''+min+'\\' WHERE startDate = \\'' + date + '\\' AND region = \\'' + region +'\\'')\n",
    "\n",
    "    session.execute(query)\n"
   ]
  },
  {
   "cell_type": "markdown",
   "metadata": {},
   "source": [
    "爬蟲"
   ]
  },
  {
   "cell_type": "code",
   "execution_count": null,
   "metadata": {},
   "outputs": [],
   "source": [
    "import requests\n",
    "from dateutil.parser import parse\n",
    "from datetime import datetime\n",
    "\n",
    "\n",
    "\n",
    "def getData():\n",
    "    url = 'https://opendata.cwa.gov.tw/fileapi/v1/opendataapi/F-C0032-001?Authorization=CWA-0003FCAC-184A-4015-B266-BD07DEC47EA5&downloadType=WEB&format=JSON'\n",
    "    data = requests.get(url)   # 取得 JSON 檔案的內容為文字\n",
    "    data_json = data.json()    # 轉換成 JSON 格式\n",
    "    # 取出 location 的內容\n",
    "    location = data_json['cwaopendata']['dataset']['location']\n",
    "\n",
    "    # 將資料存入DataBase\n",
    "    for i in location:\n",
    "        record = WeatherData(\n",
    "            region=i['locationName'],\n",
    "            max_temperature=i['weatherElement'][1]['time'][0]['parameter']['parameterName'],\n",
    "            min_temperature=i['weatherElement'][2]['time'][0]['parameter']['parameterName'],\n",
    "            startDate=parse((i['weatherElement'][2]['time'][0]['startTime'])),\n",
    "            endDate=parse(i['weatherElement'][2]['time'][0]['endTime'])\n",
    "        )\n",
    "        \n",
    "        # 在存進db時，會確認是否有同地區同時間的資料，若有就進行更新舊資料，否則就加入新資料\n",
    "        if (check(i['weatherElement'][2]['time'][0]['startTime'], record.region)[0] > 0):\n",
    "            update(i['weatherElement'][2]['time'][0]['startTime'],\n",
    "                   record.region, record.max_temperature, record.min_temperature)\n",
    "            print('')\n",
    "        else:\n",
    "            session.add(record)\n",
    "\n",
    "    session.commit()"
   ]
  },
  {
   "cell_type": "markdown",
   "metadata": {},
   "source": [
    "資料整理"
   ]
  },
  {
   "cell_type": "code",
   "execution_count": null,
   "metadata": {},
   "outputs": [],
   "source": [
    "import pandas as pd\n",
    "\n",
    "def dataTrans(data):\n",
    "    regions = []\n",
    "    highs = []\n",
    "    lows = []\n",
    "    for row in data:\n",
    "        regions.append(row.region)\n",
    "        highs.append(row.max_temperature)\n",
    "        lows.append(row.min_temperature)\n",
    "\n",
    "    df = pd.DataFrame(\n",
    "        {'region': regions, 'Max Temperature': highs, 'Min Temperature': lows})\n",
    "    \n",
    "    return df"
   ]
  },
  {
   "cell_type": "markdown",
   "metadata": {},
   "source": [
    "繪製分析圖表"
   ]
  },
  {
   "cell_type": "code",
   "execution_count": null,
   "metadata": {},
   "outputs": [],
   "source": [
    "import plotly.graph_objs as go\n",
    "from plotly.subplots import make_subplots\n",
    "def makeFig(df):   \n",
    "    fig = go.Figure()\n",
    "    fig.add_trace(go.Scatter(x=df['region'], y=df['Max Temperature'],\n",
    "                  mode='lines+markers', name='Max Temperature', line=dict(color='red')))\n",
    "    fig.add_trace(go.Scatter(x=df['region'], y=df['Min Temperature'],\n",
    "                  mode='lines+markers', name='Min Temperature', line=dict(color='blue')))\n",
    "\n",
    "    # 設置圖表標題和軸標籤\n",
    "    fig.update_layout(title={\n",
    "        'text': 'Daily Max and Min Temperatures',\n",
    "        'x': 0.5,  # 將標題置中\n",
    "        'xanchor': 'center'\n",
    "    },\n",
    "        xaxis_title='region',\n",
    "        yaxis_title='Temperature (°C)',\n",
    "        xaxis=dict(tickangle=45),\n",
    "    )\n",
    "\n",
    "    # 將圖表轉為HTML格式\n",
    "    plot_div = fig.to_html(\n",
    "        full_html=False)\n",
    "    \n",
    "    return plot_div"
   ]
  },
  {
   "cell_type": "markdown",
   "metadata": {},
   "source": [
    "網頁主程式"
   ]
  },
  {
   "cell_type": "code",
   "execution_count": 5,
   "metadata": {},
   "outputs": [],
   "source": [
    "from flask import Flask, render_template\n",
    "\n",
    "app = Flask(__name__)\n",
    "\n",
    "# 資料庫連線引擎\n",
    "engine = create_engine(connection_string)\n",
    "Session = sessionmaker(bind=engine)\n",
    "session = Session()\n",
    "\n",
    "@app.route('/')\n",
    "def index():\n",
    "    \n",
    "    # 拿資料 ==> 爬蟲\n",
    "    getData()\n",
    "\n",
    "    today_date = datetime.today().date()\n",
    "    \n",
    "    # 拿取本日資料和整理資料和繪製圖表的動作\n",
    "    data = Select(today_date.strftime('%Y-%m-%d')) # 拿取本日資料\n",
    "    df = dataTrans(data) # 整理資料\n",
    "    session.close()\n",
    "    \n",
    "    return render_template('index.html', plot_html=makeFig(df), data=df.to_dict(orient='records'))\n",
    "\n",
    "\n",
    "if __name__ == '__main__':\n",
    "    app.run()"
   ]
  }
 ],
 "metadata": {
  "kernelspec": {
   "display_name": "Python 3",
   "language": "python",
   "name": "python3"
  },
  "language_info": {
   "codemirror_mode": {
    "name": "ipython",
    "version": 3
   },
   "file_extension": ".py",
   "mimetype": "text/x-python",
   "name": "python",
   "nbconvert_exporter": "python",
   "pygments_lexer": "ipython3",
   "version": "3.11.3"
  }
 },
 "nbformat": 4,
 "nbformat_minor": 2
}
